{
  "nbformat": 4,
  "nbformat_minor": 0,
  "metadata": {
    "colab": {
      "provenance": []
    },
    "kernelspec": {
      "name": "python3",
      "display_name": "Python 3"
    },
    "language_info": {
      "name": "python"
    }
  },
  "cells": [
    {
      "cell_type": "markdown",
      "source": [
        "# **Importing Libraries**"
      ],
      "metadata": {
        "id": "KNIiSJZqacrC"
      }
    },
    {
      "cell_type": "code",
      "source": [
        "# Install necessary libraries (if not already installed)\n",
        "!pip install pandas scikit-learn matplotlib seaborn --quiet\n",
        "\n",
        "# Import libraries\n",
        "import pandas as pd\n",
        "import numpy as np\n",
        "import matplotlib.pyplot as plt\n",
        "import seaborn as sns\n",
        "from sklearn.model_selection import train_test_split\n",
        "from sklearn.preprocessing import LabelEncoder, StandardScaler\n",
        "from sklearn.ensemble import RandomForestClassifier\n",
        "from sklearn.metrics import classification_report, confusion_matrix, accuracy_score"
      ],
      "metadata": {
        "id": "cr5jL078ah1P"
      },
      "execution_count": 3,
      "outputs": []
    },
    {
      "cell_type": "markdown",
      "source": [
        "# **Load The Dataset**"
      ],
      "metadata": {
        "id": "uaHINsHzal_U"
      }
    },
    {
      "cell_type": "code",
      "source": [
        "url = \"https://github.com/YBI-Foundation/Dataset/raw/main/Bank%20Churn%20Modelling.csv\"\n",
        "data = pd.read_csv(url)"
      ],
      "metadata": {
        "id": "4Nui6csbao6R"
      },
      "execution_count": 4,
      "outputs": []
    },
    {
      "cell_type": "markdown",
      "source": [
        "# **Explore the Dataset**"
      ],
      "metadata": {
        "id": "qZUK0DAVatgx"
      }
    },
    {
      "cell_type": "code",
      "source": [
        "# Explore the dataset\n",
        "print(\"Dataset Info:\")\n",
        "print(data.info())\n",
        "print(\"\\nFirst few rows:\")\n",
        "print(data.head())"
      ],
      "metadata": {
        "colab": {
          "base_uri": "https://localhost:8080/"
        },
        "id": "qOP7mb_pazRu",
        "outputId": "cd683656-6d50-4f73-b54d-472343acfc8b"
      },
      "execution_count": 5,
      "outputs": [
        {
          "output_type": "stream",
          "name": "stdout",
          "text": [
            "Dataset Info:\n",
            "<class 'pandas.core.frame.DataFrame'>\n",
            "RangeIndex: 10000 entries, 0 to 9999\n",
            "Data columns (total 13 columns):\n",
            " #   Column            Non-Null Count  Dtype  \n",
            "---  ------            --------------  -----  \n",
            " 0   CustomerId        10000 non-null  int64  \n",
            " 1   Surname           10000 non-null  object \n",
            " 2   CreditScore       10000 non-null  int64  \n",
            " 3   Geography         10000 non-null  object \n",
            " 4   Gender            10000 non-null  object \n",
            " 5   Age               10000 non-null  int64  \n",
            " 6   Tenure            10000 non-null  int64  \n",
            " 7   Balance           10000 non-null  float64\n",
            " 8   Num Of Products   10000 non-null  int64  \n",
            " 9   Has Credit Card   10000 non-null  int64  \n",
            " 10  Is Active Member  10000 non-null  int64  \n",
            " 11  Estimated Salary  10000 non-null  float64\n",
            " 12  Churn             10000 non-null  int64  \n",
            "dtypes: float64(2), int64(8), object(3)\n",
            "memory usage: 1015.8+ KB\n",
            "None\n",
            "\n",
            "First few rows:\n",
            "   CustomerId   Surname  CreditScore Geography  Gender  Age  Tenure  \\\n",
            "0    15634602  Hargrave          619    France  Female   42       2   \n",
            "1    15647311      Hill          608     Spain  Female   41       1   \n",
            "2    15619304      Onio          502    France  Female   42       8   \n",
            "3    15701354      Boni          699    France  Female   39       1   \n",
            "4    15737888  Mitchell          850     Spain  Female   43       2   \n",
            "\n",
            "     Balance  Num Of Products  Has Credit Card  Is Active Member  \\\n",
            "0       0.00                1                1                 1   \n",
            "1   83807.86                1                0                 1   \n",
            "2  159660.80                3                1                 0   \n",
            "3       0.00                2                0                 0   \n",
            "4  125510.82                1                1                 1   \n",
            "\n",
            "   Estimated Salary  Churn  \n",
            "0         101348.88      1  \n",
            "1         112542.58      0  \n",
            "2         113931.57      1  \n",
            "3          93826.63      0  \n",
            "4          79084.10      0  \n"
          ]
        }
      ]
    },
    {
      "cell_type": "markdown",
      "source": [
        "# **Drop Unnecessary Columns**"
      ],
      "metadata": {
        "id": "qoDhZGyma4MA"
      }
    },
    {
      "cell_type": "code",
      "source": [
        "data = data.drop(['CustomerId', 'Surname'], axis=1)"
      ],
      "metadata": {
        "id": "y-wyxQhwa9sj"
      },
      "execution_count": 6,
      "outputs": []
    },
    {
      "cell_type": "markdown",
      "source": [
        "## **Encode categorical variables (convert text to numbers)**"
      ],
      "metadata": {
        "id": "FHvlpCNzbBoo"
      }
    },
    {
      "cell_type": "code",
      "source": [
        "label_encoder = LabelEncoder()\n",
        "data['Geography'] = label_encoder.fit_transform(data['Geography'])\n",
        "data['Gender'] = label_encoder.fit_transform(data['Gender'])"
      ],
      "metadata": {
        "id": "swy6R3qxbF2G"
      },
      "execution_count": 7,
      "outputs": []
    },
    {
      "cell_type": "markdown",
      "source": [
        "## **Define features (X) and target (y)**"
      ],
      "metadata": {
        "id": "JOszdGRYbOxp"
      }
    },
    {
      "cell_type": "code",
      "source": [
        "X = data.drop('Churn', axis=1)  # Features\n",
        "y = data['Churn']  # Target"
      ],
      "metadata": {
        "id": "MlTasF3EbSuu"
      },
      "execution_count": 8,
      "outputs": []
    },
    {
      "cell_type": "markdown",
      "source": [
        "## **Standardize numerical features**"
      ],
      "metadata": {
        "id": "HocK-0RkbXSo"
      }
    },
    {
      "cell_type": "code",
      "source": [
        "scaler = StandardScaler()\n",
        "X = scaler.fit_transform(X)"
      ],
      "metadata": {
        "id": "hx5_vfRnbahn"
      },
      "execution_count": 9,
      "outputs": []
    },
    {
      "cell_type": "markdown",
      "source": [
        "# **Split the dataset into training and testing sets**"
      ],
      "metadata": {
        "id": "etmigf3CbeFd"
      }
    },
    {
      "cell_type": "code",
      "source": [
        "X_train, X_test, y_train, y_test = train_test_split(X, y, test_size=0.2, random_state=42)"
      ],
      "metadata": {
        "id": "uME7FSZlbmRn"
      },
      "execution_count": 10,
      "outputs": []
    },
    {
      "cell_type": "markdown",
      "source": [
        "## **Build a Random Forest model**"
      ],
      "metadata": {
        "id": "YyVahri6bqkk"
      }
    },
    {
      "cell_type": "code",
      "source": [
        "model = RandomForestClassifier(random_state=42, n_estimators=100)\n",
        "model.fit(X_train, y_train)\n",
        "y_pred = model.predict(X_test)"
      ],
      "metadata": {
        "id": "ffzaqgSHbyDI"
      },
      "execution_count": 11,
      "outputs": []
    },
    {
      "cell_type": "markdown",
      "source": [
        "# **Evaluate The Model**"
      ],
      "metadata": {
        "id": "LM4J6nLDcACl"
      }
    },
    {
      "cell_type": "code",
      "source": [
        "print(\"\\nModel Evaluation:\")\n",
        "print(f\"Accuracy: {accuracy_score(y_test, y_pred):.2f}\")\n",
        "print(\"\\nConfusion Matrix:\")\n",
        "print(confusion_matrix(y_test, y_pred))\n",
        "print(\"\\nClassification Report:\")\n",
        "print(classification_report(y_test, y_pred))"
      ],
      "metadata": {
        "colab": {
          "base_uri": "https://localhost:8080/"
        },
        "id": "ArfsOPvmcIvc",
        "outputId": "40691640-5618-4072-fd6a-e199bd5395e6"
      },
      "execution_count": 12,
      "outputs": [
        {
          "output_type": "stream",
          "name": "stdout",
          "text": [
            "\n",
            "Model Evaluation:\n",
            "Accuracy: 0.86\n",
            "\n",
            "Confusion Matrix:\n",
            "[[1545   62]\n",
            " [ 210  183]]\n",
            "\n",
            "Classification Report:\n",
            "              precision    recall  f1-score   support\n",
            "\n",
            "           0       0.88      0.96      0.92      1607\n",
            "           1       0.75      0.47      0.57       393\n",
            "\n",
            "    accuracy                           0.86      2000\n",
            "   macro avg       0.81      0.71      0.75      2000\n",
            "weighted avg       0.85      0.86      0.85      2000\n",
            "\n"
          ]
        }
      ]
    },
    {
      "cell_type": "markdown",
      "source": [
        "## **Feature importance**"
      ],
      "metadata": {
        "id": "JXzx-3dycLV7"
      }
    },
    {
      "cell_type": "code",
      "source": [
        "importances = model.feature_importances_\n",
        "features = data.columns[:-1]\n",
        "importance_df = pd.DataFrame({'Feature': features, 'Importance': importances}).sort_values(by='Importance', ascending=False)"
      ],
      "metadata": {
        "id": "MyJQIKUpcP5C"
      },
      "execution_count": 13,
      "outputs": []
    },
    {
      "cell_type": "markdown",
      "source": [
        "## **Plot feature importance**"
      ],
      "metadata": {
        "id": "rUv6kyxAcSd2"
      }
    },
    {
      "cell_type": "code",
      "source": [
        "plt.figure(figsize=(10, 6))\n",
        "sns.barplot(x='Importance', y='Feature', data=importance_df, palette='viridis')\n",
        "plt.title('Feature Importance')\n",
        "plt.show()\n"
      ],
      "metadata": {
        "colab": {
          "base_uri": "https://localhost:8080/",
          "height": 651
        },
        "id": "lk189pyCXRwn",
        "outputId": "77e5f0ca-1497-4156-f664-ea814b61b78d"
      },
      "execution_count": 14,
      "outputs": [
        {
          "output_type": "stream",
          "name": "stderr",
          "text": [
            "<ipython-input-14-80c17723b0ed>:2: FutureWarning: \n",
            "\n",
            "Passing `palette` without assigning `hue` is deprecated and will be removed in v0.14.0. Assign the `y` variable to `hue` and set `legend=False` for the same effect.\n",
            "\n",
            "  sns.barplot(x='Importance', y='Feature', data=importance_df, palette='viridis')\n"
          ]
        },
        {
          "output_type": "display_data",
          "data": {
            "text/plain": [
              "<Figure size 1000x600 with 1 Axes>"
            ],
            "image/png": "[encoded data removed]"
          },
          "metadata": {}
        }
      ]
    }
  ]
}